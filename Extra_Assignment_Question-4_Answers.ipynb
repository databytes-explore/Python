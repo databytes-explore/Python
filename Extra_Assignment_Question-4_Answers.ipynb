{
 "cells": [
  {
   "cell_type": "code",
   "execution_count": 7,
   "id": "50aea0df-8597-45a9-8ddd-3a5c34ba66ad",
   "metadata": {},
   "outputs": [
    {
     "name": "stdout",
     "output_type": "stream",
     "text": [
      "Sub Fields in AI are:\n",
      "Machine Learning\n",
      "Neural Networks\n",
      "Vision\n",
      "Robotics\n",
      "Speech Processing\n",
      "Natural Language Processing\n"
     ]
    }
   ],
   "source": [
    "class SubfieldsInAI:\n",
    "    def Subfields():\n",
    "        print('Sub Fields in AI are:')\n",
    "        print('Machine Learning')\n",
    "        print('Neural Networks')\n",
    "        print('Vision')\n",
    "        print('Robotics')\n",
    "        print('Speech Processing')\n",
    "        print('Natural Language Processing')\n",
    "\n",
    "SubfieldsInAI.Subfields()"
   ]
  },
  {
   "cell_type": "code",
   "execution_count": 17,
   "id": "c8e60bf1-1d51-4dc6-af2f-d6ac3f1eb8d3",
   "metadata": {},
   "outputs": [
    {
     "name": "stdin",
     "output_type": "stream",
     "text": [
      "Enter the number: 24\n"
     ]
    },
    {
     "name": "stdout",
     "output_type": "stream",
     "text": [
      "24 is Even number\n"
     ]
    }
   ],
   "source": [
    "class OddEven:\n",
    "    def OddEven():\n",
    "        num1=int(input('Enter the number:'))\n",
    "        if num1%2==0:\n",
    "            print(num1,'is Even number')\n",
    "        else:\n",
    "            print(num1,'is Odd number')\n",
    "\n",
    "OddEven.OddEven()"
   ]
  },
  {
   "cell_type": "code",
   "execution_count": 27,
   "id": "337952f9-4186-4673-b340-7f61516e2ffa",
   "metadata": {},
   "outputs": [
    {
     "name": "stdin",
     "output_type": "stream",
     "text": [
      "Enter the gender: Female\n",
      "Enter age: 18\n"
     ]
    }
   ],
   "source": [
    "class  ElegiblityForMarriage:\n",
    "    def Elegible():\n",
    "        var1=input('Enter the gender:')\n",
    "        var2=int(input('Enter age:'))\n",
    "        if (var1=='Male' and var2 <21):\n",
    "            print('NOT ELIGIBLE')\n",
    "        elif (var1=='Female' and var2 <18 ):\n",
    "            print('NOT ELIGIBLE')\n",
    "        \n",
    "ElegiblityForMarriage.Elegible()"
   ]
  },
  {
   "cell_type": "code",
   "execution_count": 31,
   "id": "8f61931c-7174-4e80-9748-e621574a2aaf",
   "metadata": {},
   "outputs": [
    {
     "name": "stdin",
     "output_type": "stream",
     "text": [
      "Enter Subject1: 98\n",
      "Enter Subject2: 87\n",
      "Enter Subject3: 95\n",
      "Enter Subject4: 95\n",
      "Enter Subject5: 93\n"
     ]
    },
    {
     "name": "stdout",
     "output_type": "stream",
     "text": [
      "Subject1=  98\n",
      "Subject2=  87\n",
      "Subject3=  95\n",
      "Subject4=  95\n",
      "Subject5=  93\n",
      "Total :  479\n",
      "Percentage : 95.8\n"
     ]
    }
   ],
   "source": [
    "class FindPercent:\n",
    "    def percentage():\n",
    "        sub1=int(input('Enter Subject1:'))\n",
    "        sub2=int(input('Enter Subject2:'))\n",
    "        sub3=int(input('Enter Subject3:'))\n",
    "        sub4=int(input('Enter Subject4:'))\n",
    "        sub5=int(input('Enter Subject5:'))\n",
    "        total=sub1+sub1+sub3+sub4+sub5\n",
    "        percentage=total/5\n",
    "        print('Subject1= ',sub1)\n",
    "        print('Subject2= ',sub2)\n",
    "        print('Subject3= ',sub3)\n",
    "        print('Subject4= ',sub4)\n",
    "        print('Subject5= ',sub5)\n",
    "        print('Total : ',total)\n",
    "        print('Percentage :',percentage)\n",
    "\n",
    "FindPercent.percentage()"
   ]
  },
  {
   "cell_type": "code",
   "execution_count": 33,
   "id": "8f9144f7-0b19-4d27-b8b6-8e6b5b1b9ef1",
   "metadata": {},
   "outputs": [
    {
     "name": "stdout",
     "output_type": "stream",
     "text": [
      "Height: 32\n",
      "Breadth: 34\n",
      "Area formula: (Height*Breadth)/2\n",
      "Area of triangle:  544.0\n",
      "Height1: 2\n",
      "Height2: 4\n",
      "Breadth: 4\n",
      "Perimeter formula: Height1+Height2+Height3+Breadth\n",
      "Perimeter of Triangle: 10\n"
     ]
    }
   ],
   "source": [
    "class Triangle:\n",
    "    def triangle():\n",
    "        height=32\n",
    "        breadth=34\n",
    "        print('Height:',height)\n",
    "        print('Breadth:',breadth)\n",
    "        print('Area formula: (Height*Breadth)/2')\n",
    "        print('Area of triangle: ',height*breadth/2)\n",
    "        height1=2\n",
    "        height2=4\n",
    "        breadth=4\n",
    "        print('Height1:',height1)\n",
    "        print('Height2:',height2)\n",
    "        print('Breadth:',breadth)\n",
    "        print('Perimeter formula: Height1+Height2+Height3+Breadth')\n",
    "        print('Perimeter of Triangle:',height1+height2+breadth)\n",
    "\n",
    "Triangle.triangle()\n",
    "        \n",
    "    "
   ]
  },
  {
   "cell_type": "code",
   "execution_count": null,
   "id": "a04584d4-2105-4103-a1e0-200cdab5239d",
   "metadata": {},
   "outputs": [],
   "source": []
  }
 ],
 "metadata": {
  "kernelspec": {
   "display_name": "Python [conda env:base] *",
   "language": "python",
   "name": "conda-base-py"
  },
  "language_info": {
   "codemirror_mode": {
    "name": "ipython",
    "version": 3
   },
   "file_extension": ".py",
   "mimetype": "text/x-python",
   "name": "python",
   "nbconvert_exporter": "python",
   "pygments_lexer": "ipython3",
   "version": "3.12.7"
  }
 },
 "nbformat": 4,
 "nbformat_minor": 5
}
