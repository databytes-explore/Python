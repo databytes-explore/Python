{
 "cells": [
  {
   "cell_type": "code",
   "execution_count": 5,
   "id": "d2b6346e-7649-434d-935d-39b807600179",
   "metadata": {},
   "outputs": [
    {
     "name": "stdout",
     "output_type": "stream",
     "text": [
      "HOPE AI\n"
     ]
    }
   ],
   "source": [
    "str='hope ai'\n",
    "print(str.upper())"
   ]
  },
  {
   "cell_type": "code",
   "execution_count": 9,
   "id": "93407109-c59f-4f2d-9020-5e7e38e5bf8e",
   "metadata": {},
   "outputs": [
    {
     "name": "stdin",
     "output_type": "stream",
     "text": [
      "Enter your institue name?: HOPE AI\n"
     ]
    },
    {
     "name": "stdout",
     "output_type": "stream",
     "text": [
      "HOPE AI\n"
     ]
    }
   ],
   "source": [
    "print(input(\"Enter your institue name?:\"))"
   ]
  },
  {
   "cell_type": "code",
   "execution_count": 11,
   "id": "873b50cb-084a-4e95-b9e4-360c9cb84d20",
   "metadata": {},
   "outputs": [
    {
     "name": "stdin",
     "output_type": "stream",
     "text": [
      "Enter your name: Raj\n"
     ]
    },
    {
     "name": "stdout",
     "output_type": "stream",
     "text": [
      "Raj\n"
     ]
    },
    {
     "name": "stdin",
     "output_type": "stream",
     "text": [
      "Enter your age: 15\n"
     ]
    },
    {
     "name": "stdout",
     "output_type": "stream",
     "text": [
      "15\n"
     ]
    },
    {
     "name": "stdin",
     "output_type": "stream",
     "text": [
      "Enter your school name: Guru school\n"
     ]
    },
    {
     "name": "stdout",
     "output_type": "stream",
     "text": [
      "Guru school\n"
     ]
    },
    {
     "name": "stdin",
     "output_type": "stream",
     "text": [
      "Enter your degree: B.E CSE\n"
     ]
    },
    {
     "name": "stdout",
     "output_type": "stream",
     "text": [
      "B.E CSE\n"
     ]
    }
   ],
   "source": [
    "print(input(\"Enter your name:\"))\n",
    "print(input(\"Enter your age:\"))\n",
    "print(input(\"Enter your school name:\"))\n",
    "print(input(\"Enter your degree:\"))"
   ]
  },
  {
   "cell_type": "code",
   "execution_count": 13,
   "id": "bb4adce0-a17d-436d-9b2c-c282958a1c68",
   "metadata": {},
   "outputs": [
    {
     "name": "stdin",
     "output_type": "stream",
     "text": [
      "Enter number 1: 43\n",
      "Enter number 2: 34\n"
     ]
    },
    {
     "name": "stdout",
     "output_type": "stream",
     "text": [
      "a=  43\n",
      "b=  34\n",
      "add =  77\n"
     ]
    }
   ],
   "source": [
    "num1=int(input(\"Enter number 1:\"))\n",
    "num2=int(input(\"Enter number 2:\"))\n",
    "print(\"a= \" ,num1)\n",
    "print(\"b= \", num2)\n",
    "print(\"add = \" ,num1+num2)"
   ]
  },
  {
   "cell_type": "code",
   "execution_count": 15,
   "id": "950932a9-d8c1-43cf-8ec3-883c5a78c4db",
   "metadata": {},
   "outputs": [
    {
     "name": "stdin",
     "output_type": "stream",
     "text": [
      "Enter number 1: 43\n",
      "Enter number 2: 34\n"
     ]
    },
    {
     "name": "stdout",
     "output_type": "stream",
     "text": [
      "a=  43\n",
      "b=  34\n",
      "Sub =  9\n"
     ]
    }
   ],
   "source": [
    "num1=int(input(\"Enter number 1:\"))\n",
    "num2=int(input(\"Enter number 2:\"))\n",
    "print(\"a= \" ,num1)\n",
    "print(\"b= \", num2)\n",
    "print(\"Sub = \" ,num1-num2)"
   ]
  },
  {
   "cell_type": "code",
   "execution_count": 23,
   "id": "ab2ae5e6-0b6a-4160-8092-dc73837a9acf",
   "metadata": {},
   "outputs": [
    {
     "name": "stdin",
     "output_type": "stream",
     "text": [
      "Enter number 1: 63\n",
      "Enter number 2: 97\n"
     ]
    },
    {
     "name": "stdout",
     "output_type": "stream",
     "text": [
      "a=  63\n",
      "b=  97\n",
      "Mul =  6111\n"
     ]
    }
   ],
   "source": [
    "num1=int(input(\"Enter number 1:\"))\n",
    "num2=int(input(\"Enter number 2:\"))\n",
    "print(\"a= \" ,num1)\n",
    "print(\"b= \", num2)\n",
    "print(\"Mul = \" ,num1*num2)"
   ]
  },
  {
   "cell_type": "code",
   "execution_count": 21,
   "id": "7913aa41-7f25-455c-a21a-a81ba7214796",
   "metadata": {},
   "outputs": [
    {
     "name": "stdin",
     "output_type": "stream",
     "text": [
      "Enter number 1: 76\n",
      "Enter number 2: 31\n"
     ]
    },
    {
     "name": "stdout",
     "output_type": "stream",
     "text": [
      "a=  76\n",
      "b=  31\n",
      "Mul =  2.4516129032258065\n"
     ]
    }
   ],
   "source": [
    "num1=int(input(\"Enter number 1:\"))\n",
    "num2=int(input(\"Enter number 2:\"))\n",
    "print(\"a= \" ,num1)\n",
    "print(\"b= \", num2)\n",
    "print(\"Mul = \" ,float(num1/num2))"
   ]
  },
  {
   "cell_type": "code",
   "execution_count": 27,
   "id": "9f5d200b-5e68-4f02-bee9-4265b5703955",
   "metadata": {},
   "outputs": [
    {
     "name": "stdin",
     "output_type": "stream",
     "text": [
      "Enter number 1: 76\n",
      "Enter number 2: 31\n"
     ]
    },
    {
     "name": "stdout",
     "output_type": "stream",
     "text": [
      "a=  76\n",
      "b=  31\n",
      "Floor Div =  2\n"
     ]
    }
   ],
   "source": [
    "num1=int(input(\"Enter number 1:\"))\n",
    "num2=int(input(\"Enter number 2:\"))\n",
    "print(\"a= \" ,num1)\n",
    "print(\"b= \", num2)\n",
    "print(\"Floor Div = \" ,int(num1/num2))"
   ]
  },
  {
   "cell_type": "code",
   "execution_count": 29,
   "id": "225919de-1b2e-4666-ba82-9ebdc11751c5",
   "metadata": {},
   "outputs": [
    {
     "name": "stdin",
     "output_type": "stream",
     "text": [
      "Enter number 1: 76\n",
      "Enter number 2: 31\n"
     ]
    },
    {
     "name": "stdout",
     "output_type": "stream",
     "text": [
      "a=  76\n",
      "b=  31\n",
      "Modulo =  14\n"
     ]
    }
   ],
   "source": [
    "num1=int(input(\"Enter number 1:\"))\n",
    "num2=int(input(\"Enter number 2:\"))\n",
    "print(\"a= \" ,num1)\n",
    "print(\"b= \", num2)\n",
    "print(\"Modulo = \" ,num1%num2)"
   ]
  },
  {
   "cell_type": "code",
   "execution_count": 71,
   "id": "a1ce8e89-74cf-45f4-b63f-639bc437632c",
   "metadata": {},
   "outputs": [
    {
     "name": "stdin",
     "output_type": "stream",
     "text": [
      "Enter number 1: 5\n",
      "Enter number 2: 3\n"
     ]
    },
    {
     "name": "stdout",
     "output_type": "stream",
     "text": [
      "a=  5\n",
      "b=  3\n",
      "Power: 125\n"
     ]
    }
   ],
   "source": [
    "num1=int(input(\"Enter number 1:\"))\n",
    "num2=int(input(\"Enter number 2:\"))\n",
    "print(\"a= \" ,num1)\n",
    "print(\"b= \", num2)\n",
    "answer =num1 ** num2\n",
    "\n",
    "\n",
    "print('Power:' ,answer)\n",
    "  \n",
    "\n"
   ]
  },
  {
   "cell_type": "code",
   "execution_count": null,
   "id": "52bb41bc-a887-4f83-81b1-9338892d1e16",
   "metadata": {},
   "outputs": [],
   "source": []
  }
 ],
 "metadata": {
  "kernelspec": {
   "display_name": "Python [conda env:base] *",
   "language": "python",
   "name": "conda-base-py"
  },
  "language_info": {
   "codemirror_mode": {
    "name": "ipython",
    "version": 3
   },
   "file_extension": ".py",
   "mimetype": "text/x-python",
   "name": "python",
   "nbconvert_exporter": "python",
   "pygments_lexer": "ipython3",
   "version": "3.12.7"
  }
 },
 "nbformat": 4,
 "nbformat_minor": 5
}
