{
 "cells": [
  {
   "cell_type": "code",
   "execution_count": 5,
   "id": "47b2fef6-5424-4894-8a19-3e0fb54d86c7",
   "metadata": {},
   "outputs": [
    {
     "name": "stdout",
     "output_type": "stream",
     "text": [
      "0\n",
      "1\n",
      "2\n",
      "3\n",
      "4\n",
      "5\n",
      "6\n",
      "7\n",
      "8\n",
      "9\n",
      "10\n",
      "11\n",
      "12\n",
      "13\n",
      "14\n",
      "15\n",
      "16\n",
      "17\n",
      "18\n",
      "19\n"
     ]
    }
   ],
   "source": [
    "for i in range(0,20):\n",
    "    print(i)\n"
   ]
  },
  {
   "cell_type": "code",
   "execution_count": 7,
   "id": "fa5816c6-f0cb-47c3-9121-e348896ff170",
   "metadata": {},
   "outputs": [
    {
     "name": "stdout",
     "output_type": "stream",
     "text": [
      "10\n",
      "11\n",
      "12\n",
      "13\n",
      "14\n",
      "15\n",
      "16\n",
      "17\n",
      "18\n",
      "19\n"
     ]
    }
   ],
   "source": [
    "for i in range(10,20):\n",
    "    print(i)"
   ]
  },
  {
   "cell_type": "code",
   "execution_count": 9,
   "id": "5fe12018-23c7-4d1f-93a0-ca55c4626fe9",
   "metadata": {},
   "outputs": [
    {
     "name": "stdout",
     "output_type": "stream",
     "text": [
      "7\n"
     ]
    }
   ],
   "source": [
    "lists=[10, 20, 14, 55, 43, 87, 76]\n",
    "print(len(lists))"
   ]
  },
  {
   "cell_type": "code",
   "execution_count": 21,
   "id": "26d66965-edd1-497e-810f-b2c62993f16f",
   "metadata": {},
   "outputs": [
    {
     "name": "stdin",
     "output_type": "stream",
     "text": [
      "Enter the string Artificial Intelligence\n"
     ]
    },
    {
     "name": "stdout",
     "output_type": "stream",
     "text": [
      "A\n",
      "r\n",
      "t\n",
      "i\n",
      "f\n",
      "i\n",
      "c\n",
      "i\n",
      "a\n",
      "l\n",
      " \n",
      "I\n",
      "n\n",
      "t\n",
      "e\n",
      "l\n",
      "l\n",
      "i\n",
      "g\n",
      "e\n",
      "n\n",
      "c\n",
      "e\n"
     ]
    }
   ],
   "source": [
    "str=input(\"Enter the string\")\n",
    "lengths=int(len(str))\n",
    "for i in range(0,lengths):\n",
    " print(str[i])"
   ]
  },
  {
   "cell_type": "code",
   "execution_count": 49,
   "id": "57ffcb4e-3d00-4686-810a-32ba9826f23e",
   "metadata": {},
   "outputs": [
    {
     "name": "stdout",
     "output_type": "stream",
     "text": [
      "-Your Name- Shailaja\n",
      "-Your Age- 30\n",
      "-Your Profession- Engineer\n"
     ]
    }
   ],
   "source": [
    "var1='Shailaja'\n",
    "var2='30'\n",
    "var3='Engineer'\n",
    "print('-Your Name-',var1)\n",
    "print('-Your Age-',var2)\n",
    "print('-Your Profession-',var3)\n"
   ]
  },
  {
   "cell_type": "code",
   "execution_count": 25,
   "id": "06bd4298-9180-4855-b0fa-2233975f746d",
   "metadata": {},
   "outputs": [
    {
     "name": "stdout",
     "output_type": "stream",
     "text": [
      "(1, 'Welcome', 2, 'Hope')\n"
     ]
    }
   ],
   "source": [
    "a=(1, 'Welcome', 2, 'Hope')\n",
    "print(a)"
   ]
  },
  {
   "cell_type": "code",
   "execution_count": 29,
   "id": "ba071eb0-a26e-474f-8682-eb99af7315ac",
   "metadata": {},
   "outputs": [
    {
     "name": "stdout",
     "output_type": "stream",
     "text": [
      "(0, 1, 2, 3)\n"
     ]
    }
   ],
   "source": [
    "Tuple1 = (0, 1, 2, 3)\n",
    "print(Tuple1)"
   ]
  },
  {
   "cell_type": "code",
   "execution_count": 35,
   "id": "538f2abd-55e7-4bed-902f-d1f37ae4b1f7",
   "metadata": {},
   "outputs": [
    {
     "name": "stdout",
     "output_type": "stream",
     "text": [
      "((0, 1, 2, 3), ('python', 'HOPE'))\n"
     ]
    }
   ],
   "source": [
    "var1=('python','HOPE')\n",
    "var2=(Tuple1,var1)\n",
    "print(var2)"
   ]
  },
  {
   "cell_type": "code",
   "execution_count": 45,
   "id": "721f1a8c-71ff-4a5a-b5f5-2b966c4b49b9",
   "metadata": {},
   "outputs": [
    {
     "name": "stdout",
     "output_type": "stream",
     "text": [
      "19  is odd\n",
      "25  is odd\n",
      "1  is odd\n"
     ]
    }
   ],
   "source": [
    "var1=(20,10,16,19,25,1,276,188)\n",
    "for i in var1:\n",
    "    result1=i%2\n",
    "    if result1 == 1:\n",
    "       print(i,' is odd')"
   ]
  },
  {
   "cell_type": "code",
   "execution_count": 47,
   "id": "4350f98a-f4e9-4511-b6b0-f838d34af004",
   "metadata": {},
   "outputs": [
    {
     "name": "stdout",
     "output_type": "stream",
     "text": [
      "20  is even\n",
      "10  is even\n",
      "16  is even\n",
      "276  is even\n",
      "188  is even\n"
     ]
    }
   ],
   "source": [
    "var1=(20,10,16,19,25,1,276,188)\n",
    "for i in var1:\n",
    "    result1=i%2\n",
    "    if result1 == 0:\n",
    "       print(i,' is even')"
   ]
  },
  {
   "cell_type": "code",
   "execution_count": null,
   "id": "e0413dc1-ff49-4363-a3ce-0dcb8859acca",
   "metadata": {},
   "outputs": [],
   "source": []
  }
 ],
 "metadata": {
  "kernelspec": {
   "display_name": "Python [conda env:base] *",
   "language": "python",
   "name": "conda-base-py"
  },
  "language_info": {
   "codemirror_mode": {
    "name": "ipython",
    "version": 3
   },
   "file_extension": ".py",
   "mimetype": "text/x-python",
   "name": "python",
   "nbconvert_exporter": "python",
   "pygments_lexer": "ipython3",
   "version": "3.12.7"
  }
 },
 "nbformat": 4,
 "nbformat_minor": 5
}
