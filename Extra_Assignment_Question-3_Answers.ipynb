{
 "cells": [
  {
   "cell_type": "code",
   "execution_count": 3,
   "id": "2c6f27ab-a5d1-4862-ad1b-776c8725f68b",
   "metadata": {},
   "outputs": [
    {
     "name": "stdout",
     "output_type": "stream",
     "text": [
      "value: 10\n",
      "Corret\n"
     ]
    }
   ],
   "source": [
    "value =10\n",
    "if value == 10:\n",
    "    print('value:',value)\n",
    "    print('Corret')"
   ]
  },
  {
   "cell_type": "code",
   "execution_count": 7,
   "id": "2e5bd051-b90a-4831-a9ed-8813eca7c4cc",
   "metadata": {},
   "outputs": [
    {
     "name": "stdin",
     "output_type": "stream",
     "text": [
      "Enter the password HOPE@123\n"
     ]
    },
    {
     "name": "stdout",
     "output_type": "stream",
     "text": [
      "Your password is correct\n"
     ]
    }
   ],
   "source": [
    "password=input('Enter the password')\n",
    "if password=='HOPE@123':\n",
    "    print('Your password is correct')"
   ]
  },
  {
   "cell_type": "code",
   "execution_count": 11,
   "id": "6438cff8-a9a6-4da2-b3a8-f8fabeedae6e",
   "metadata": {},
   "outputs": [
    {
     "name": "stdin",
     "output_type": "stream",
     "text": [
      "Enter age 20\n"
     ]
    },
    {
     "name": "stdout",
     "output_type": "stream",
     "text": [
      "Adult\n"
     ]
    }
   ],
   "source": [
    "age=int(input('Enter age'))\n",
    "if age>=20:\n",
    "    print('Adult')"
   ]
  },
  {
   "cell_type": "code",
   "execution_count": 17,
   "id": "f552180f-4d73-4016-943f-d8550dc1a651",
   "metadata": {},
   "outputs": [
    {
     "name": "stdin",
     "output_type": "stream",
     "text": [
      "Enter any number -1\n"
     ]
    }
   ],
   "source": [
    "number=int(input('Enter any number'))\n",
    "if number >=0:\n",
    "    print('No is positive')"
   ]
  },
  {
   "cell_type": "code",
   "execution_count": 21,
   "id": "deb266b2-fd58-444e-8257-70bf9d6bc010",
   "metadata": {},
   "outputs": [
    {
     "name": "stdin",
     "output_type": "stream",
     "text": [
      "Enter any number 22\n"
     ]
    },
    {
     "name": "stdout",
     "output_type": "stream",
     "text": [
      "No is not divisible by 5\n"
     ]
    }
   ],
   "source": [
    "number=int(input('Enter any number'))\n",
    "if number%5 > 0:\n",
    "    print('No is not divisible by 5')"
   ]
  },
  {
   "cell_type": "code",
   "execution_count": null,
   "id": "56fb8637-bf1b-4fa9-810e-84ac80e2617f",
   "metadata": {},
   "outputs": [],
   "source": []
  }
 ],
 "metadata": {
  "kernelspec": {
   "display_name": "Python [conda env:base] *",
   "language": "python",
   "name": "conda-base-py"
  },
  "language_info": {
   "codemirror_mode": {
    "name": "ipython",
    "version": 3
   },
   "file_extension": ".py",
   "mimetype": "text/x-python",
   "name": "python",
   "nbconvert_exporter": "python",
   "pygments_lexer": "ipython3",
   "version": "3.12.7"
  }
 },
 "nbformat": 4,
 "nbformat_minor": 5
}
